{
 "cells": [
  {
   "cell_type": "markdown",
   "id": "5eeb3d1b",
   "metadata": {},
   "source": []
  },
  {
   "cell_type": "code",
   "execution_count": null,
   "id": "6fb1189c",
   "metadata": {},
   "outputs": [
    {
     "name": "stdout",
     "output_type": "stream",
     "text": [
      "Loading tokenizer and model...\n"
     ]
    },
    {
     "name": "stderr",
     "output_type": "stream",
     "text": [
      "c:\\Users\\Tay Han\\OneDrive - National University of Singapore\\Capstone\\.venv\\Lib\\site-packages\\transformers\\convert_slow_tokenizer.py:564: UserWarning: The sentencepiece tokenizer that you are converting to a fast tokenizer uses the byte fallback option which is not implemented in the fast tokenizers. In practice this means that the fast version of the tokenizer can produce unknown tokens whereas the sentencepiece version would have converted these unknown tokens into a sequence of byte tokens matching the original piece of text.\n",
      "  warnings.warn(\n",
      "Asking to truncate to max_length but no maximum length is provided and the model has no predefined maximum length. Default to no truncation.\n"
     ]
    },
    {
     "name": "stdout",
     "output_type": "stream",
     "text": [
      "\n",
      "🗣️ Singlish: wah the weather damn hot today leh\n",
      "💬 English: <extra_id_0> English to English:\n",
      "\n",
      "🗣️ Singlish: you eat already or not?\n",
      "💬 English: <extra_id_0> English to English:\n",
      "\n",
      "🗣️ Singlish: don’t play play ah, this one very expensive!\n",
      "💬 English: <extra_id_0> English to English:\n"
     ]
    }
   ],
   "source": [
    "import torch\n",
    "from transformers import AutoTokenizer, AutoModelForSeq2SeqLM\n",
    "from peft import PeftModel\n",
    "\n",
    "# -----------------------------\n",
    "# Load base + adapter weights\n",
    "# -----------------------------\n",
    "BASE_MODEL = \"google/mt5-base\"\n",
    "ADAPTER_PATH = \"results/outputs-salt/adapter\"\n",
    "TOKENIZER_PATH = \"results/outputs-salt/tokenizer\"\n",
    "\n",
    "print(\"Loading tokenizer and model...\")\n",
    "tokenizer = AutoTokenizer.from_pretrained(TOKENIZER_PATH)\n",
    "base_model = AutoModelForSeq2SeqLM.from_pretrained(BASE_MODEL, torch_dtype=torch.float32)\n",
    "model = PeftModel.from_pretrained(base_model, ADAPTER_PATH)\n",
    "model.eval()\n",
    "\n",
    "if torch.cuda.is_available():\n",
    "    model = model.to(\"cuda\")\n",
    "    print(\"Model moved to GPU.\")\n",
    "\n",
    "# -----------------------------\n",
    "# Inference function\n",
    "# -----------------------------\n",
    "def translate_singlish(sentence, max_length=128):\n",
    "    prompt = f\"Translate English to English:\\nEnglish: {sentence}\\nEnglish:\"\n",
    "    inputs = tokenizer(prompt, return_tensors=\"pt\", truncation=True).to(model.device)\n",
    "\n",
    "    with torch.no_grad():\n",
    "        outputs = model.generate(\n",
    "            **inputs,\n",
    "            max_length=max_length,\n",
    "            num_beams=5,\n",
    "            early_stopping=True,\n",
    "        )\n",
    "\n",
    "    translation = tokenizer.decode(outputs[0], skip_special_tokens=True)\n",
    "    return translation\n",
    "\n",
    "# -----------------------------\n",
    "# Example runs\n",
    "# -----------------------------\n",
    "examples = [\n",
    "    \"wah the weather damn hot today leh\",\n",
    "    \"you eat already or not?\",\n",
    "    \"don’t play play ah, this one very expensive!\",\n",
    "]\n",
    "\n",
    "for ex in examples:\n",
    "    print(f\"\\n🗣️ Singlish: {ex}\")\n",
    "    print(f\"💬 English: {translate_singlish(ex)}\")\n"
   ]
  },
  {
   "cell_type": "code",
   "execution_count": 11,
   "id": "53383240",
   "metadata": {},
   "outputs": [
    {
     "name": "stdout",
     "output_type": "stream",
     "text": [
      "trainable params: 0 || all params: 584,711,424 || trainable%: 0.0000\n"
     ]
    }
   ],
   "source": [
    "model.print_trainable_parameters()"
   ]
  }
 ],
 "metadata": {
  "kernelspec": {
   "display_name": ".venv",
   "language": "python",
   "name": "python3"
  },
  "language_info": {
   "codemirror_mode": {
    "name": "ipython",
    "version": 3
   },
   "file_extension": ".py",
   "mimetype": "text/x-python",
   "name": "python",
   "nbconvert_exporter": "python",
   "pygments_lexer": "ipython3",
   "version": "3.11.9"
  }
 },
 "nbformat": 4,
 "nbformat_minor": 5
}
